{
 "cells": [
  {
   "cell_type": "code",
   "execution_count": 1,
   "metadata": {
    "collapsed": true
   },
   "outputs": [],
   "source": [
    "# IMPORTING DATA\n",
    "\n",
    "import pandas as pd\n",
    "import numpy as np\n",
    "\n",
    "FILE_NAME = 'ex1data1.txt'\n",
    "all_cols = pd.read_csv(FILE_NAME, sep=\",\", header=None)\n",
    "\n",
    "col1 = all_cols[0].values #col1 is basically all the X\n",
    "col2 = all_cols[1].values #col2 is basically the labels y\n",
    "\n",
    "data = list(zip(col1, col2)) "
   ]
  },
  {
   "cell_type": "code",
   "execution_count": 2,
   "metadata": {
    "collapsed": false
   },
   "outputs": [],
   "source": [
    "#properly setting data\n",
    "\n",
    "n_samples = len(data) # number of samples or data\n",
    "\n",
    "data = np.asarray(data, dtype=np.float32) # data"
   ]
  },
  {
   "cell_type": "code",
   "execution_count": 3,
   "metadata": {
    "collapsed": true
   },
   "outputs": [],
   "source": [
    "# Linear Regression\n",
    "\n",
    "import tensorflow as tf\n",
    "\n",
    "logs_path = './logs' # log file dir\n",
    "\n",
    "# Setting up place holders\n",
    "X = tf.placeholder(tf.float32, name = 'X')\n",
    "Y = tf.placeholder(tf.float32, name = 'Y')"
   ]
  },
  {
   "cell_type": "code",
   "execution_count": 4,
   "metadata": {
    "collapsed": true
   },
   "outputs": [],
   "source": [
    "# Theta0, Theta1 \n",
    "theta_0 = tf.get_variable('theta_0', initializer = tf.constant(0.0))\n",
    "theta_1 = tf.get_variable('theta_1', initializer = tf.constant(0.0))"
   ]
  },
  {
   "cell_type": "code",
   "execution_count": 5,
   "metadata": {
    "collapsed": true
   },
   "outputs": [],
   "source": [
    "Y_predicted = theta_0 + theta_1 * X"
   ]
  },
  {
   "cell_type": "code",
   "execution_count": 6,
   "metadata": {
    "collapsed": false
   },
   "outputs": [],
   "source": [
    "loss = tf.square(Y - Y_predicted, name = 'loss') #Squared loss calculation\n",
    "\n",
    "# setting gradient descent as optimizer\n",
    "optimizer = tf.train.GradientDescentOptimizer(learning_rate=0.0001).minimize(loss)"
   ]
  },
  {
   "cell_type": "code",
   "execution_count": 7,
   "metadata": {
    "collapsed": true
   },
   "outputs": [],
   "source": [
    "with tf.Session() as sess:\n",
    "    # Initializer\n",
    "    sess.run(tf.global_variables_initializer())\n",
    "    \n",
    "    # Log file write\n",
    "    writer = tf.summary.FileWriter(logs_path, graph=tf.get_default_graph())\n",
    "        \n",
    "    for i in range(1500):\n",
    "        for x,y in data:\n",
    "            sess.run(optimizer, feed_dict={X: x, Y: y})\n",
    "    \n",
    "    # theta saving in variable\n",
    "    theta_0,theta_1 = sess.run([theta_0,theta_1])"
   ]
  },
  {
   "cell_type": "code",
   "execution_count": 8,
   "metadata": {
    "collapsed": false
   },
   "outputs": [
    {
     "name": "stdout",
     "output_type": "stream",
     "text": [
      "theta0 and theta1\n",
      "-3.78707 1.11314\n"
     ]
    }
   ],
   "source": [
    "print 'theta0 and theta1'\n",
    "print theta_0,theta_1"
   ]
  },
  {
   "cell_type": "code",
   "execution_count": 9,
   "metadata": {
    "collapsed": false
   },
   "outputs": [
    {
     "name": "stdout",
     "output_type": "stream",
     "text": [
      "for population 35000\n",
      "result: 38956.1416807\n"
     ]
    }
   ],
   "source": [
    "print 'for population 35000'\n",
    "Y_pre = theta_0 + theta_1*35000\n",
    "print 'result:',Y_pre"
   ]
  },
  {
   "cell_type": "code",
   "execution_count": 10,
   "metadata": {
    "collapsed": false
   },
   "outputs": [
    {
     "name": "stdout",
     "output_type": "stream",
     "text": [
      "for population 70000\n",
      "result: 77916.0704317\n"
     ]
    }
   ],
   "source": [
    "print 'for population 70000'\n",
    "Y_pre = theta_0 + theta_1*70000\n",
    "print 'result:',Y_pre"
   ]
  }
 ],
 "metadata": {
  "kernelspec": {
   "display_name": "Python 2",
   "language": "python",
   "name": "python2"
  },
  "language_info": {
   "codemirror_mode": {
    "name": "ipython",
    "version": 2
   },
   "file_extension": ".py",
   "mimetype": "text/x-python",
   "name": "python",
   "nbconvert_exporter": "python",
   "pygments_lexer": "ipython2",
   "version": "2.7.13"
  }
 },
 "nbformat": 4,
 "nbformat_minor": 2
}
